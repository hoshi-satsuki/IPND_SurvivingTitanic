{
 "cells": [
  {
   "cell_type": "markdown",
   "metadata": {
    "deletable": true,
    "editable": true
   },
   "source": [
    "# Introduction"
   ]
  },
  {
   "cell_type": "markdown",
   "metadata": {
    "deletable": true,
    "editable": true
   },
   "source": [
    "We are given a dataset from the titanic listing passengers that survived or did not survive in the catastrophe. We are given information on the following things:\n",
    "\n",
    "survival: Survival, 0=No, 1=Yes  \n",
    "pclass: Ticket class, 1 = 1st, 2 = 2nd, 3 = 3rd   \n",
    "name: Name\n",
    "sex: Sex  \n",
    "Age: Age in years  \n",
    "sibsp: number of siblings/spouses aboard the Titanic  \n",
    "parch: number of parents/children aboard the Titanic  \n",
    "ticket: Ticket number  \n",
    "fare: Passenger fare  \n",
    "cabin: Cabin number  \n",
    "embarked: Port of Embarkation, C = Cherbourg, Q = Queenstown, S = Southampton\n",
    "\n",
    "For more information see [Kaggle](https://www.kaggle.com/c/titanic/data). "
   ]
  },
  {
   "cell_type": "markdown",
   "metadata": {
    "deletable": true,
    "editable": true
   },
   "source": [
    "# Importing the Necessary Libraries\n",
    "We import the following libraries"
   ]
  },
  {
   "cell_type": "code",
   "execution_count": 248,
   "metadata": {
    "collapsed": true,
    "deletable": true,
    "editable": true
   },
   "outputs": [],
   "source": [
    "import numpy as np\n",
    "import pandas as pd\n",
    "import matplotlib.pyplot as plt\n",
    "import seaborn as sns\n",
    "%matplotlib inline"
   ]
  },
  {
   "cell_type": "markdown",
   "metadata": {
    "deletable": true,
    "editable": true
   },
   "source": [
    "# A first Look at the Data"
   ]
  },
  {
   "cell_type": "markdown",
   "metadata": {
    "deletable": true,
    "editable": true
   },
   "source": [
    "## Loading the Data"
   ]
  },
  {
   "cell_type": "code",
   "execution_count": 249,
   "metadata": {
    "collapsed": false,
    "deletable": true,
    "editable": true
   },
   "outputs": [],
   "source": [
    "data=pd.read_csv(\"titanic_data.csv\")"
   ]
  },
  {
   "cell_type": "markdown",
   "metadata": {
    "deletable": true,
    "editable": true
   },
   "source": [
    "## Getting an Overview"
   ]
  },
  {
   "cell_type": "code",
   "execution_count": 250,
   "metadata": {
    "collapsed": false,
    "deletable": true,
    "editable": true
   },
   "outputs": [
    {
     "data": {
      "text/html": [
       "<div>\n",
       "<table border=\"1\" class=\"dataframe\">\n",
       "  <thead>\n",
       "    <tr style=\"text-align: right;\">\n",
       "      <th></th>\n",
       "      <th>PassengerId</th>\n",
       "      <th>Survived</th>\n",
       "      <th>Pclass</th>\n",
       "      <th>Name</th>\n",
       "      <th>Sex</th>\n",
       "      <th>Age</th>\n",
       "      <th>SibSp</th>\n",
       "      <th>Parch</th>\n",
       "      <th>Ticket</th>\n",
       "      <th>Fare</th>\n",
       "      <th>Cabin</th>\n",
       "      <th>Embarked</th>\n",
       "    </tr>\n",
       "  </thead>\n",
       "  <tbody>\n",
       "    <tr>\n",
       "      <th>0</th>\n",
       "      <td>1</td>\n",
       "      <td>0</td>\n",
       "      <td>3</td>\n",
       "      <td>Braund, Mr. Owen Harris</td>\n",
       "      <td>male</td>\n",
       "      <td>22.0</td>\n",
       "      <td>1</td>\n",
       "      <td>0</td>\n",
       "      <td>A/5 21171</td>\n",
       "      <td>7.2500</td>\n",
       "      <td>NaN</td>\n",
       "      <td>S</td>\n",
       "    </tr>\n",
       "    <tr>\n",
       "      <th>1</th>\n",
       "      <td>2</td>\n",
       "      <td>1</td>\n",
       "      <td>1</td>\n",
       "      <td>Cumings, Mrs. John Bradley (Florence Briggs Th...</td>\n",
       "      <td>female</td>\n",
       "      <td>38.0</td>\n",
       "      <td>1</td>\n",
       "      <td>0</td>\n",
       "      <td>PC 17599</td>\n",
       "      <td>71.2833</td>\n",
       "      <td>C85</td>\n",
       "      <td>C</td>\n",
       "    </tr>\n",
       "    <tr>\n",
       "      <th>2</th>\n",
       "      <td>3</td>\n",
       "      <td>1</td>\n",
       "      <td>3</td>\n",
       "      <td>Heikkinen, Miss. Laina</td>\n",
       "      <td>female</td>\n",
       "      <td>26.0</td>\n",
       "      <td>0</td>\n",
       "      <td>0</td>\n",
       "      <td>STON/O2. 3101282</td>\n",
       "      <td>7.9250</td>\n",
       "      <td>NaN</td>\n",
       "      <td>S</td>\n",
       "    </tr>\n",
       "    <tr>\n",
       "      <th>3</th>\n",
       "      <td>4</td>\n",
       "      <td>1</td>\n",
       "      <td>1</td>\n",
       "      <td>Futrelle, Mrs. Jacques Heath (Lily May Peel)</td>\n",
       "      <td>female</td>\n",
       "      <td>35.0</td>\n",
       "      <td>1</td>\n",
       "      <td>0</td>\n",
       "      <td>113803</td>\n",
       "      <td>53.1000</td>\n",
       "      <td>C123</td>\n",
       "      <td>S</td>\n",
       "    </tr>\n",
       "    <tr>\n",
       "      <th>4</th>\n",
       "      <td>5</td>\n",
       "      <td>0</td>\n",
       "      <td>3</td>\n",
       "      <td>Allen, Mr. William Henry</td>\n",
       "      <td>male</td>\n",
       "      <td>35.0</td>\n",
       "      <td>0</td>\n",
       "      <td>0</td>\n",
       "      <td>373450</td>\n",
       "      <td>8.0500</td>\n",
       "      <td>NaN</td>\n",
       "      <td>S</td>\n",
       "    </tr>\n",
       "  </tbody>\n",
       "</table>\n",
       "</div>"
      ],
      "text/plain": [
       "   PassengerId  Survived  Pclass  \\\n",
       "0            1         0       3   \n",
       "1            2         1       1   \n",
       "2            3         1       3   \n",
       "3            4         1       1   \n",
       "4            5         0       3   \n",
       "\n",
       "                                                Name     Sex   Age  SibSp  \\\n",
       "0                            Braund, Mr. Owen Harris    male  22.0      1   \n",
       "1  Cumings, Mrs. John Bradley (Florence Briggs Th...  female  38.0      1   \n",
       "2                             Heikkinen, Miss. Laina  female  26.0      0   \n",
       "3       Futrelle, Mrs. Jacques Heath (Lily May Peel)  female  35.0      1   \n",
       "4                           Allen, Mr. William Henry    male  35.0      0   \n",
       "\n",
       "   Parch            Ticket     Fare Cabin Embarked  \n",
       "0      0         A/5 21171   7.2500   NaN        S  \n",
       "1      0          PC 17599  71.2833   C85        C  \n",
       "2      0  STON/O2. 3101282   7.9250   NaN        S  \n",
       "3      0            113803  53.1000  C123        S  \n",
       "4      0            373450   8.0500   NaN        S  "
      ]
     },
     "execution_count": 250,
     "metadata": {},
     "output_type": "execute_result"
    }
   ],
   "source": [
    "data.head()"
   ]
  },
  {
   "cell_type": "code",
   "execution_count": 251,
   "metadata": {
    "collapsed": false,
    "deletable": true,
    "editable": true
   },
   "outputs": [
    {
     "data": {
      "text/html": [
       "<div>\n",
       "<table border=\"1\" class=\"dataframe\">\n",
       "  <thead>\n",
       "    <tr style=\"text-align: right;\">\n",
       "      <th></th>\n",
       "      <th>PassengerId</th>\n",
       "      <th>Survived</th>\n",
       "      <th>Pclass</th>\n",
       "      <th>Age</th>\n",
       "      <th>SibSp</th>\n",
       "      <th>Parch</th>\n",
       "      <th>Fare</th>\n",
       "    </tr>\n",
       "  </thead>\n",
       "  <tbody>\n",
       "    <tr>\n",
       "      <th>count</th>\n",
       "      <td>891.000000</td>\n",
       "      <td>891.000000</td>\n",
       "      <td>891.000000</td>\n",
       "      <td>714.000000</td>\n",
       "      <td>891.000000</td>\n",
       "      <td>891.000000</td>\n",
       "      <td>891.000000</td>\n",
       "    </tr>\n",
       "    <tr>\n",
       "      <th>mean</th>\n",
       "      <td>446.000000</td>\n",
       "      <td>0.383838</td>\n",
       "      <td>2.308642</td>\n",
       "      <td>29.699118</td>\n",
       "      <td>0.523008</td>\n",
       "      <td>0.381594</td>\n",
       "      <td>32.204208</td>\n",
       "    </tr>\n",
       "    <tr>\n",
       "      <th>std</th>\n",
       "      <td>257.353842</td>\n",
       "      <td>0.486592</td>\n",
       "      <td>0.836071</td>\n",
       "      <td>14.526497</td>\n",
       "      <td>1.102743</td>\n",
       "      <td>0.806057</td>\n",
       "      <td>49.693429</td>\n",
       "    </tr>\n",
       "    <tr>\n",
       "      <th>min</th>\n",
       "      <td>1.000000</td>\n",
       "      <td>0.000000</td>\n",
       "      <td>1.000000</td>\n",
       "      <td>0.420000</td>\n",
       "      <td>0.000000</td>\n",
       "      <td>0.000000</td>\n",
       "      <td>0.000000</td>\n",
       "    </tr>\n",
       "    <tr>\n",
       "      <th>25%</th>\n",
       "      <td>223.500000</td>\n",
       "      <td>0.000000</td>\n",
       "      <td>2.000000</td>\n",
       "      <td>20.125000</td>\n",
       "      <td>0.000000</td>\n",
       "      <td>0.000000</td>\n",
       "      <td>7.910400</td>\n",
       "    </tr>\n",
       "    <tr>\n",
       "      <th>50%</th>\n",
       "      <td>446.000000</td>\n",
       "      <td>0.000000</td>\n",
       "      <td>3.000000</td>\n",
       "      <td>28.000000</td>\n",
       "      <td>0.000000</td>\n",
       "      <td>0.000000</td>\n",
       "      <td>14.454200</td>\n",
       "    </tr>\n",
       "    <tr>\n",
       "      <th>75%</th>\n",
       "      <td>668.500000</td>\n",
       "      <td>1.000000</td>\n",
       "      <td>3.000000</td>\n",
       "      <td>38.000000</td>\n",
       "      <td>1.000000</td>\n",
       "      <td>0.000000</td>\n",
       "      <td>31.000000</td>\n",
       "    </tr>\n",
       "    <tr>\n",
       "      <th>max</th>\n",
       "      <td>891.000000</td>\n",
       "      <td>1.000000</td>\n",
       "      <td>3.000000</td>\n",
       "      <td>80.000000</td>\n",
       "      <td>8.000000</td>\n",
       "      <td>6.000000</td>\n",
       "      <td>512.329200</td>\n",
       "    </tr>\n",
       "  </tbody>\n",
       "</table>\n",
       "</div>"
      ],
      "text/plain": [
       "       PassengerId    Survived      Pclass         Age       SibSp  \\\n",
       "count   891.000000  891.000000  891.000000  714.000000  891.000000   \n",
       "mean    446.000000    0.383838    2.308642   29.699118    0.523008   \n",
       "std     257.353842    0.486592    0.836071   14.526497    1.102743   \n",
       "min       1.000000    0.000000    1.000000    0.420000    0.000000   \n",
       "25%     223.500000    0.000000    2.000000   20.125000    0.000000   \n",
       "50%     446.000000    0.000000    3.000000   28.000000    0.000000   \n",
       "75%     668.500000    1.000000    3.000000   38.000000    1.000000   \n",
       "max     891.000000    1.000000    3.000000   80.000000    8.000000   \n",
       "\n",
       "            Parch        Fare  \n",
       "count  891.000000  891.000000  \n",
       "mean     0.381594   32.204208  \n",
       "std      0.806057   49.693429  \n",
       "min      0.000000    0.000000  \n",
       "25%      0.000000    7.910400  \n",
       "50%      0.000000   14.454200  \n",
       "75%      0.000000   31.000000  \n",
       "max      6.000000  512.329200  "
      ]
     },
     "execution_count": 251,
     "metadata": {},
     "output_type": "execute_result"
    }
   ],
   "source": [
    "data.describe()"
   ]
  },
  {
   "cell_type": "markdown",
   "metadata": {
    "deletable": true,
    "editable": true
   },
   "source": [
    "## Missing Values\n",
    "We can see that there is data for 891 passengers and that there are NaNs in the Cabin column. It seems that there are also NaN in the Age column as the count is only 714. Lets check this:"
   ]
  },
  {
   "cell_type": "code",
   "execution_count": 252,
   "metadata": {
    "collapsed": false,
    "deletable": true,
    "editable": true
   },
   "outputs": [
    {
     "data": {
      "text/plain": [
       "177"
      ]
     },
     "execution_count": 252,
     "metadata": {},
     "output_type": "execute_result"
    }
   ],
   "source": [
    "np.isnan(data['Age']).sum()"
   ]
  },
  {
   "cell_type": "markdown",
   "metadata": {
    "deletable": true,
    "editable": true
   },
   "source": [
    "There are 177 NaNs in the Age column.\n",
    "Let's look further: As there is the full number of datasets in the columns PassengerID, Survived, Pclass, Age, SibSp, Parch and Fare we assume there are no NaNs there.   \n",
    "Lets check the other columns for null values:"
   ]
  },
  {
   "cell_type": "code",
   "execution_count": 253,
   "metadata": {
    "collapsed": false,
    "deletable": true,
    "editable": true
   },
   "outputs": [
    {
     "data": {
      "text/plain": [
       "0"
      ]
     },
     "execution_count": 253,
     "metadata": {},
     "output_type": "execute_result"
    }
   ],
   "source": [
    "pd.isnull(data['Name']).sum()\n"
   ]
  },
  {
   "cell_type": "code",
   "execution_count": 254,
   "metadata": {
    "collapsed": false,
    "deletable": true,
    "editable": true
   },
   "outputs": [
    {
     "data": {
      "text/plain": [
       "0"
      ]
     },
     "execution_count": 254,
     "metadata": {},
     "output_type": "execute_result"
    }
   ],
   "source": [
    "pd.isnull(data['Sex']).sum()"
   ]
  },
  {
   "cell_type": "code",
   "execution_count": 255,
   "metadata": {
    "collapsed": false,
    "deletable": true,
    "editable": true
   },
   "outputs": [
    {
     "data": {
      "text/plain": [
       "0"
      ]
     },
     "execution_count": 255,
     "metadata": {},
     "output_type": "execute_result"
    }
   ],
   "source": [
    "pd.isnull(data['Ticket']).sum()"
   ]
  },
  {
   "cell_type": "code",
   "execution_count": 256,
   "metadata": {
    "collapsed": false,
    "deletable": true,
    "editable": true
   },
   "outputs": [
    {
     "data": {
      "text/plain": [
       "687"
      ]
     },
     "execution_count": 256,
     "metadata": {},
     "output_type": "execute_result"
    }
   ],
   "source": [
    "pd.isnull(data['Cabin']).sum()"
   ]
  },
  {
   "cell_type": "code",
   "execution_count": 257,
   "metadata": {
    "collapsed": false,
    "deletable": true,
    "editable": true
   },
   "outputs": [
    {
     "data": {
      "text/plain": [
       "2"
      ]
     },
     "execution_count": 257,
     "metadata": {},
     "output_type": "execute_result"
    }
   ],
   "source": [
    "pd.isnull(data['Embarked']).sum()"
   ]
  },
  {
   "cell_type": "markdown",
   "metadata": {
    "deletable": true,
    "editable": true
   },
   "source": [
    "We conclude that there are missing values in the columns:  \n",
    "Age  \n",
    "Cabin  \n",
    "Embarked\n",
    "\n",
    "We keep the rows containing missing values anyway, as for the further analysis not all columns of the data are relevant."
   ]
  },
  {
   "cell_type": "markdown",
   "metadata": {
    "deletable": true,
    "editable": true
   },
   "source": [
    "## Number of Survivors"
   ]
  },
  {
   "cell_type": "markdown",
   "metadata": {
    "deletable": true,
    "editable": true
   },
   "source": [
    "Next we want to find out how many people out of our dataset survived or did not survive."
   ]
  },
  {
   "cell_type": "code",
   "execution_count": 258,
   "metadata": {
    "collapsed": false,
    "deletable": true,
    "editable": true
   },
   "outputs": [
    {
     "data": {
      "text/plain": [
       "342"
      ]
     },
     "execution_count": 258,
     "metadata": {},
     "output_type": "execute_result"
    }
   ],
   "source": [
    "data['Survived'].sum()"
   ]
  },
  {
   "cell_type": "markdown",
   "metadata": {
    "deletable": true,
    "editable": true
   },
   "source": [
    "We can see that 342 out of the 891 passengers in our dataset survived the catastrophe."
   ]
  },
  {
   "cell_type": "markdown",
   "metadata": {
    "deletable": true,
    "editable": true
   },
   "source": [
    "# Asking questions and exploring the data\n",
    "We are interested in finding out what made a passenger more likely to survive. A first idea would be to look at the relationship between the survival rate and the fare. But we will see in the next section that we cannot infer how much a certain person paid for his own ticket because some passengers travelled in groups.  \n",
    "So we will instead look at the following relationships:\n",
    "* Pclass and survivalrate\n",
    "* Sex and survivalrate\n",
    "* Age and survivalrate"
   ]
  },
  {
   "cell_type": "markdown",
   "metadata": {},
   "source": [
    "## Tickets and Fares"
   ]
  },
  {
   "cell_type": "markdown",
   "metadata": {},
   "source": [
    "When taking a look at the number of unique tickets"
   ]
  },
  {
   "cell_type": "code",
   "execution_count": 259,
   "metadata": {
    "collapsed": false,
    "deletable": true,
    "editable": true
   },
   "outputs": [
    {
     "data": {
      "text/plain": [
       "681"
      ]
     },
     "execution_count": 259,
     "metadata": {},
     "output_type": "execute_result"
    }
   ],
   "source": [
    "len(data[\"Ticket\"].unique())"
   ]
  },
  {
   "cell_type": "markdown",
   "metadata": {},
   "source": [
    "we can see that there can be more than one passenger travelling on one ticket. Let's take a closer look at the groups which are longer than 1:"
   ]
  },
  {
   "cell_type": "code",
   "execution_count": 260,
   "metadata": {
    "collapsed": false,
    "deletable": true,
    "editable": true
   },
   "outputs": [
    {
     "name": "stdout",
     "output_type": "stream",
     "text": [
      "                                                         Name  SibSp  Parch\n",
      "Ticket                                                                     \n",
      "110152 257                               Cherry, Miss. Gladys      0      0\n",
      "       504                              Maioni, Miss. Roberta      0      0\n",
      "       759  Rothes, the Countess. of (Lucy Noel Martha Dye...      0      0\n",
      "110413 262                                  Taussig, Mr. Emil      1      1\n",
      "       558             Taussig, Mrs. Emil (Tillie Mandelbaum)      1      1\n",
      "       585                                Taussig, Miss. Ruth      0      2\n",
      "110465 110                     Porter, Mr. Walter Chamberlain      0      0\n",
      "       475                        Clifford, Mr. George Quincy      0      0\n",
      "111361 329                       Hippach, Miss. Jean Gertrude      0      1\n",
      "       523    Hippach, Mrs. Louis Albert (Ida Sophia Fischer)      0      1\n",
      "113505 166             Chibnall, Mrs. (Edith Martha Bowerman)      0      1\n",
      "       356                        Bowerman, Miss. Elsie Edith      0      1\n",
      "113572 61                                 Icard, Miss. Amelie      0      0\n",
      "       829          Stone, Mrs. George Nelson (Martha Evelyn)      0      0\n",
      "113760 390                         Carter, Mr. William Ernest      1      2\n",
      "       435                          Carter, Miss. Lucile Polk      1      2\n",
      "       763          Carter, Mrs. William Ernest (Lucile Polk)      1      2\n",
      "       802                Carter, Master. William Thornton II      1      2\n",
      "113776 151                  Pears, Mrs. Thomas (Edith Wearne)      1      0\n",
      "       336                          Pears, Mr. Thomas Clinton      1      0\n",
      "113781 297                       Allison, Miss. Helen Loraine      1      2\n",
      "       305                     Allison, Master. Hudson Trevor      1      2\n",
      "       498    Allison, Mrs. Hudson J C (Bessie Waldo Daniels)      1      2\n",
      "       708                               Cleaver, Miss. Alice      0      0\n",
      "113789 35                      Holverson, Mr. Alexander Oskar      1      0\n",
      "       383  Holverson, Mrs. Alexander Oskar (Mary Aline To...      1      0\n",
      "113798 270                              Cairns, Mr. Alexander      0      0\n",
      "       842                            Serepeca, Miss. Augusta      0      0\n",
      "113803 3         Futrelle, Mrs. Jacques Heath (Lily May Peel)      1      0\n",
      "       137                        Futrelle, Mr. Jacques Heath      1      0\n"
     ]
    }
   ],
   "source": [
    "def look_at(dat):\n",
    "    #if dat[\"PassengerID\"]<20:\n",
    "    if len(dat)>1:\n",
    "        return(dat)\n",
    "\n",
    "grouped_ticket=data.groupby('Ticket')\n",
    "result=grouped_ticket[\"Name\",\"SibSp\",\"Parch\"].apply(look_at)\n",
    "print(result.head(30))\n"
   ]
  },
  {
   "cell_type": "markdown",
   "metadata": {},
   "source": [
    "We can see that some families seem to be traveling on the same ticket, but we also see groups where we do not know the relationship between the members."
   ]
  },
  {
   "cell_type": "markdown",
   "metadata": {},
   "source": [
    "Let's take a look at the Fare column for the ticket groups:"
   ]
  },
  {
   "cell_type": "code",
   "execution_count": 261,
   "metadata": {
    "collapsed": false
   },
   "outputs": [
    {
     "name": "stdout",
     "output_type": "stream",
     "text": [
      "Ticket     \n",
      "110152  257     86.5000\n",
      "        504     86.5000\n",
      "        759     86.5000\n",
      "110413  262     79.6500\n",
      "        558     79.6500\n",
      "        585     79.6500\n",
      "110465  110     52.0000\n",
      "        475     52.0000\n",
      "111361  329     57.9792\n",
      "        523     57.9792\n",
      "113505  166     55.0000\n",
      "        356     55.0000\n",
      "113572  61      80.0000\n",
      "        829     80.0000\n",
      "113760  390    120.0000\n",
      "        435    120.0000\n",
      "        763    120.0000\n",
      "        802    120.0000\n",
      "113776  151     66.6000\n",
      "        336     66.6000\n",
      "113781  297    151.5500\n",
      "        305    151.5500\n",
      "        498    151.5500\n",
      "        708    151.5500\n",
      "113789  35      52.0000\n",
      "        383     52.0000\n",
      "113798  270     31.0000\n",
      "        842     31.0000\n",
      "113803  3       53.1000\n",
      "        137     53.1000\n",
      "Name: Fare, dtype: float64\n"
     ]
    }
   ],
   "source": [
    "result2=grouped_ticket[\"Fare\"].apply(look_at)\n",
    "print(result2.head(30))"
   ]
  },
  {
   "cell_type": "markdown",
   "metadata": {},
   "source": [
    "From what we can see a certain fare corresponds to a certain ticket. Therefore we are not able to say how much a certain person paid, just how much a certain group travelling on the same ticket paid."
   ]
  },
  {
   "cell_type": "markdown",
   "metadata": {},
   "source": [
    "## Relationship between Pclass and Survival Rate"
   ]
  },
  {
   "cell_type": "code",
   "execution_count": 262,
   "metadata": {
    "collapsed": true
   },
   "outputs": [],
   "source": [
    "def makep(str):\n",
    "    grouped=data.groupby(str)\n",
    "    m=grouped['Survived'].mean()\n",
    "    m.plot.bar()\n",
    "    plt.ylabel('Survival Rate')"
   ]
  },
  {
   "cell_type": "markdown",
   "metadata": {},
   "source": [
    "Lets have a look at the Survival Rate for a given Pclass:"
   ]
  },
  {
   "cell_type": "code",
   "execution_count": 263,
   "metadata": {
    "collapsed": false
   },
   "outputs": [
    {
     "data": {
      "image/png": "[encoded data removed]",
      "text/plain": [
       "<matplotlib.figure.Figure at 0x7f1e2b6d1fd0>"
      ]
     },
     "metadata": {},
     "output_type": "display_data"
    }
   ],
   "source": [
    "makep('Pclass')"
   ]
  },
  {
   "cell_type": "markdown",
   "metadata": {},
   "source": [
    "As we might have expected the survival rate is higher the lower the Pclass is."
   ]
  },
  {
   "cell_type": "markdown",
   "metadata": {},
   "source": [
    "## Relationship between Sex and Survival Rate"
   ]
  },
  {
   "cell_type": "markdown",
   "metadata": {},
   "source": [
    "We can have a similiar plot for the relationship between sex and survival rate:"
   ]
  },
  {
   "cell_type": "code",
   "execution_count": 264,
   "metadata": {
    "collapsed": false
   },
   "outputs": [
    {
     "data": {
      "image/png": "[encoded data removed]",
      "text/plain": [
       "<matplotlib.figure.Figure at 0x7f1e2b5fac10>"
      ]
     },
     "metadata": {},
     "output_type": "display_data"
    }
   ],
   "source": [
    "makep('Sex')"
   ]
  },
  {
   "cell_type": "markdown",
   "metadata": {},
   "source": [
    "Obviously you had a much higher chance to survive if you were female."
   ]
  },
  {
   "cell_type": "markdown",
   "metadata": {},
   "source": [
    "We can also plot the survival rate for pclass and sex in one plot:"
   ]
  },
  {
   "cell_type": "code",
   "execution_count": 265,
   "metadata": {
    "collapsed": false
   },
   "outputs": [
    {
     "data": {
      "text/plain": [
       "<matplotlib.text.Text at 0x7f1e2b521150>"
      ]
     },
     "execution_count": 265,
     "metadata": {},
     "output_type": "execute_result"
    },
    {
     "data": {
      "image/png": "[encoded data removed]",
      "text/plain": [
       "<matplotlib.figure.Figure at 0x7f1e2b54a290>"
      ]
     },
     "metadata": {},
     "output_type": "display_data"
    }
   ],
   "source": [
    "group_pclass_sex=data.groupby([\"Pclass\",\"Sex\"])\n",
    "mps=group_pclass_sex[\"Survived\"].mean()\n",
    "vec1=mps.index.get_level_values('Pclass')\n",
    "vec2=mps.index.get_level_values('Sex')\n",
    "df=pd.DataFrame({'Pclass':vec1,'Sex':vec2,\"Survival Rate\":mps.values})\n",
    "pic=df.pivot('Pclass','Sex','Survival Rate')\n",
    "sns.heatmap(pic)\n",
    "plt.title('Survival Rate')"
   ]
  },
  {
   "cell_type": "markdown",
   "metadata": {},
   "source": [
    "## Relationship between Age and Survival Rate"
   ]
  },
  {
   "cell_type": "code",
   "execution_count": 266,
   "metadata": {
    "collapsed": false
   },
   "outputs": [
    {
     "data": {
      "text/plain": [
       "<matplotlib.legend.Legend at 0x7f1e2c57ef50>"
      ]
     },
     "execution_count": 266,
     "metadata": {},
     "output_type": "execute_result"
    },
    {
     "data": {
      "image/png": "[encoded data removed]",
      "text/plain": [
       "<matplotlib.figure.Figure at 0x7f1e2c42ef10>"
      ]
     },
     "metadata": {},
     "output_type": "display_data"
    }
   ],
   "source": [
    "dn=data[(data['Survived']==0) & (~data['Age'].isnull())]\n",
    "x=dn['Age']\n",
    "ax=sns.kdeplot(x, shade=True, color=\"r\")\n",
    "ds=data[(data['Survived']==1) & (~data['Age'].isnull())]\n",
    "y=ds['Age']\n",
    "sns.kdeplot(y,shade=True,color=\"g\",ax=ax)\n",
    "plt.title('age distribution among survival classes')\n",
    "plt.ylabel('frequency')\n",
    "plt.legend(['did not survive', 'survived'])"
   ]
  },
  {
   "cell_type": "markdown",
   "metadata": {},
   "source": [
    "The age distributions for the class of people that did not survive and the class of people that did survive look pretty similiar. Let's have a look at the survival rate for the age quantiles:"
   ]
  },
  {
   "cell_type": "code",
   "execution_count": 267,
   "metadata": {
    "collapsed": false
   },
   "outputs": [
    {
     "name": "stdout",
     "output_type": "stream",
     "text": [
      "           Interval  Survival Rate\n",
      "0-0.2    [0.42, 19]       0.481707\n",
      "0.2-0.4    (19, 25]       0.328467\n",
      "0.4-0.6  (25, 31.8]       0.393701\n",
      "0.6-0.8  (31.8, 41]       0.437500\n",
      "0.8-1      (41, 80]       0.373239\n"
     ]
    },
    {
     "data": {
      "image/png": "[encoded data removed]",
      "text/plain": [
       "<matplotlib.figure.Figure at 0x7f1e2b89f0d0>"
      ]
     },
     "metadata": {},
     "output_type": "display_data"
    }
   ],
   "source": [
    "data_2=data[['Age','Survived']]\n",
    "data_2a=data_2.dropna()\n",
    "temp=pd.DataFrame(pd.qcut(data_2a['Age'],[0,0.2,0.4,0.6,0.8,1]))\n",
    "temp.columns=['Interval']\n",
    "data_2b=pd.merge(data_2a,temp,left_index=True,right_index=True)\n",
    "data_2b_rate=data_2b.groupby('Interval')['Survived'].mean()\n",
    "#data2d=pd.DataFrame({'Percentile':['0-0.2','0.2-0.4','0.4-0.6','0.6-0.8','0.8-1'],'Survival Rate':data_2b_rate.values})\n",
    "data2c=pd.DataFrame({'Survival Rate':data_2b_rate.values},index=['0-0.2','0.2-0.4','0.4-0.6','0.6-0.8','0.8-1'])\n",
    "data2c.plot.bar()\n",
    "plt.xlabel('Quantiles')\n",
    "data2d=pd.DataFrame({'Interval':data_2b_rate.index,'Survival Rate':data_2b_rate.values},index=['0-0.2','0.2-0.4','0.4-0.6','0.6-0.8','0.8-1'])\n",
    "print(data2d)\n",
    "\n",
    "\n"
   ]
  },
  {
   "cell_type": "markdown",
   "metadata": {},
   "source": [
    "Looking at the survival rates for these quantiles we cannot say that lower or higher age increased or decreased your chance of survival, it rather seems that your chance of survival was lowest when your age was in between 19 and 25."
   ]
  },
  {
   "cell_type": "markdown",
   "metadata": {
    "deletable": true,
    "editable": true
   },
   "source": [
    "# Conclusion"
   ]
  },
  {
   "cell_type": "markdown",
   "metadata": {
    "deletable": true,
    "editable": true
   },
   "source": [
    "We first want to mention that this analysis is by far not complete and can do no more than give a first idea.\n",
    "\n",
    "One issue is that we do not have data on all the passengers and crew as according to wikipedia there were 2,224 passengers and crew aboard and we only have data on 891 people. Furthermore our data contains missing values. There might also be further features relevant to the analysis, e.g. social status. It might also be interesting to look at on which deck a passengers cabin was.\n",
    "\n",
    "Also did we not use statistical methods to proof correlation but instead only had an explorative look at the data. One could calculate the R-score or use a regression model (or even neural nets) to proof corellation.\n",
    "\n",
    "Yet we do think that a lower pclass and being female is related to having had a higher chance of survival. We cannot say that lower or higher age increased or decreased your chance of survival, it rather seems that your chance of survival was lowest when your age was in between 19 and 25."
   ]
  },
  {
   "cell_type": "markdown",
   "metadata": {},
   "source": [
    "# Further Research"
   ]
  },
  {
   "cell_type": "markdown",
   "metadata": {},
   "source": [
    "First of all one should get data on the other passengers and crew. Missing values should be explained and features like social status added. Furthermore the combination of the cabin number and a map of the ship should help determine relationships there.  \n",
    "\n",
    "Statistical methods like calculation R-scores, regression or other machine learning methods should be used to proof corellation. Next thing correlation is not causation. So one should also have a look at that."
   ]
  }
 ],
 "metadata": {
  "kernelspec": {
   "display_name": "Python 2",
   "language": "python",
   "name": "python2"
  },
  "language_info": {
   "codemirror_mode": {
    "name": "ipython",
    "version": 2
   },
   "file_extension": ".py",
   "mimetype": "text/x-python",
   "name": "python",
   "nbconvert_exporter": "python",
   "pygments_lexer": "ipython2",
   "version": "2.7.13"
  }
 },
 "nbformat": 4,
 "nbformat_minor": 2
}
